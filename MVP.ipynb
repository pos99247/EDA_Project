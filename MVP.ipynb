{
 "cells": [
  {
   "attachments": {},
   "cell_type": "markdown",
   "metadata": {},
   "source": [
    "<div style=\"width: 200px;\">![top%205%20entries%20per%20day.PNG](attachment:top%205%20entries%20per%20day.PNG)"
   ]
  },
  {
   "attachments": {},
   "cell_type": "markdown",
   "metadata": {},
   "source": [
    "<div style=\"width: 200px;\">![top%206~10%20entries%20per%20day.PNG](attachment:top%206~10%20entries%20per%20day.PNG)"
   ]
  },
  {
   "cell_type": "markdown",
   "metadata": {},
   "source": [
    "The top 10 stations was chosen by how many traffic they had in the whole data set. However, when you chart total traffic day by day you can see that 23st(top6) actually has higher traffic than 42st-port auth and times sq-42 st station in the top five. Coca-cola should prioritize the stations in the order of 34 ST-PENN ST, GRD CNTRL-42 ST, 34 ST-Herald SQ, 23 St, TIMES SQ-42, 42ST-PORT AUTH, 14 ST-UNION SQ, FULTON ST, 125 ST, and CANAL ST. Also, they should focus from tuesday through fridays.\n",
    "Lastly, Stations near colleges should come first, because they are trying to target students/young atheletes.\n",
    "\n",
    "1. GRD CNTRL-42st - Berkeley College\n",
    "2. 14 ST-UNION SQ - New York University, St.Johns University\n",
    "3. 125 ST - Columbia University, City College New York\n"
   ]
  }
 ],
 "metadata": {
  "kernelspec": {
   "display_name": "Python 3",
   "language": "python",
   "name": "python3"
  },
  "language_info": {
   "codemirror_mode": {
    "name": "ipython",
    "version": 3
   },
   "file_extension": ".py",
   "mimetype": "text/x-python",
   "name": "python",
   "nbconvert_exporter": "python",
   "pygments_lexer": "ipython3",
   "version": "3.8.5"
  }
 },
 "nbformat": 4,
 "nbformat_minor": 4
}
